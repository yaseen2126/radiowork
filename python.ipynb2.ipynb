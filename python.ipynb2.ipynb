{
 "cells": [
  {
   "cell_type": "code",
   "execution_count": null,
   "metadata": {},
   "outputs": [],
   "source": [
    "import streamlit as st\n",
    "\n",
    "# Using object notation\n",
    "add_selectbox = st.sidebar.selectbox(\n",
    "    \"How would you like to be contacted?\",\n",
    "    (\"Email\", \"Home phone\", \"Mobile phone\")\n",
    ")\n",
    "\n",
    "# Using \"with\" notation\n",
    "with st.sidebar:\n",
    "    add_radio = st.radio(\n",
    "        \"Choose a shipping method\",\n",
    "        (\"Standard (5-15 days)\", \"Express (2-5 days)\")\n",
    "    )"
   ]
  },
  {
   "cell_type": "markdown",
   "metadata": {},
   "source": []
  },
  {
   "cell_type": "code",
   "execution_count": null,
   "metadata": {},
   "outputs": [],
   "source": [
    "import streamlit as st\n",
    "import time\n",
    "st.balloons()\n",
    "st.snow()\n",
    "progress_text = \"Operation in progress. Please wait.\"\n",
    "my_bar = st.progress(0, text=progress_text)\n",
    "\n",
    "for percent_complete in range(100):\n",
    "    time.sleep(0.01)\n",
    "    my_bar.progress(percent_complete + 1, text=progress_text)\n",
    "time.sleep(1)\n",
    "my_bar.empty()\n",
    "\n",
    "st.button(\"Rerun\")"
   ]
  },
  {
   "cell_type": "code",
   "execution_count": null,
   "metadata": {},
   "outputs": [],
   "source": []
  },
  {
   "cell_type": "code",
   "execution_count": null,
   "metadata": {},
   "outputs": [],
   "source": []
  }
 ],
 "metadata": {
  "language_info": {
   "name": "python"
  }
 },
 "nbformat": 4,
 "nbformat_minor": 2
}
