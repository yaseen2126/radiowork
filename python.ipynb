{
 "cells": [
  {
   "cell_type": "code",
   "execution_count": null,
   "metadata": {},
   "outputs": [],
   "source": [
    "import streamlit as st\n",
    "\n",
    "# Using object notation\n",
    "add_selectbox = st.sidebar.selectbox(\n",
    "    \"How would you like to be contacted?\",\n",
    "    (\"Email\", \"Home phone\", \"Mobile phone\")\n",
    ")\n",
    "\n",
    "# Using \"with\" notation\n",
    "with st.sidebar:\n",
    "    add_radio = st.radio(\n",
    "        \"Choose a shipping method\",\n",
    "        (\"Standard (5-15 days)\", \"Express (2-5 days)\")\n",
    "    )"
   ]
  },
  {
   "cell_type": "code",
   "execution_count": null,
   "metadata": {},
   "outputs": [],
   "source": []
  },
  {
   "cell_type": "code",
   "execution_count": null,
   "metadata": {},
   "outputs": [],
   "source": []
  }
 ],
 "metadata": {
  "language_info": {
   "name": "python"
  }
 },
 "nbformat": 4,
 "nbformat_minor": 2
}
